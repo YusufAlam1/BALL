{
 "cells": [
  {
   "cell_type": "code",
   "execution_count": 2,
   "id": "68521a60",
   "metadata": {},
   "outputs": [],
   "source": [
    "### This Notebook explores how to use nba_api to retrieve some important features we will be needing"
   ]
  },
  {
   "cell_type": "code",
   "execution_count": 9,
   "id": "86a554b8",
   "metadata": {},
   "outputs": [],
   "source": [
    "# Imports\n",
    "from nba_api.stats.static import players\n",
    "from nba_api.stats.endpoints import (\n",
    "    PlayerGameLog,\n",
    "    BoxScorePlayerTrackV2,\n",
    "    BoxScoreAdvancedV2,\n",
    "    DraftCombinePlayerAnthro,\n",
    "    CommonPlayerInfo\n",
    ")\n",
    "import pandas as pd"
   ]
  },
  {
   "cell_type": "code",
   "execution_count": 8,
   "id": "ca5e76df",
   "metadata": {},
   "outputs": [
    {
     "name": "stdout",
     "output_type": "stream",
     "text": [
      "201939\n",
      "  SEASON_ID  Player_ID     Game_ID     GAME_DATE      MATCHUP WL  MIN  FGM  \\\n",
      "0     42016     201939  0041600405  Jun 12, 2017  GSW vs. CLE  W   41   10   \n",
      "1     42016     201939  0041600404  Jun 09, 2017    GSW @ CLE  L   38    4   \n",
      "2     42016     201939  0041600403  Jun 07, 2017    GSW @ CLE  W   39    8   \n",
      "3     42016     201939  0041600402  Jun 04, 2017  GSW vs. CLE  W   36    7   \n",
      "4     42016     201939  0041600401  Jun 01, 2017  GSW vs. CLE  W   34   11   \n",
      "\n",
      "   FGA  FG_PCT  ...  DREB  REB  AST  STL  BLK  TOV  PF  PTS  PLUS_MINUS  \\\n",
      "0   20   0.500  ...     4    6   10    3    0    4   3   34           3   \n",
      "1   13   0.308  ...     4    5   10    2    0    4   2   14         -24   \n",
      "2   19   0.421  ...     8   13    6    2    0    1   3   26          11   \n",
      "3   17   0.412  ...     8   10   11    1    0    8   3   32          21   \n",
      "4   22   0.500  ...     5    6   10    3    0    2   3   28          20   \n",
      "\n",
      "   VIDEO_AVAILABLE  \n",
      "0                1  \n",
      "1                1  \n",
      "2                1  \n",
      "3                1  \n",
      "4                1  \n",
      "\n",
      "[5 rows x 27 columns]\n"
     ]
    }
   ],
   "source": [
    "# Get the ID for the player so we can have portable lookups\n",
    "pid = players.find_players_by_full_name(\"Stephen Curry\")[0][\"id\"]\n",
    "\n",
    "print(pid)\n",
    "logs = PlayerGameLog(\n",
    "    player_id=pid,\n",
    "    season=\"2016-17\",\n",
    "    season_type_all_star=\"Playoffs\"\n",
    ").get_data_frames()[0]\n",
    "# print(logs)\n",
    "\n",
    "finals_logs = logs[logs[\"MATCHUP\"].str.contains(\"CLE\")]\n",
    "assert not finals_logs.empty, \"No Finals logs found — check filters.\"\n",
    "print(finals_logs)"
   ]
  },
  {
   "cell_type": "code",
   "execution_count": 5,
   "id": "b21c1a61",
   "metadata": {},
   "outputs": [
    {
     "name": "stdout",
     "output_type": "stream",
     "text": [
      "Using Finals Game_ID: 0041600405\n",
      "\n"
     ]
    }
   ],
   "source": [
    "game_id = finals_logs.iloc[0][\"Game_ID\"]\n",
    "print(f\"Using Finals Game_ID: {game_id}\\n\")"
   ]
  },
  {
   "cell_type": "code",
   "execution_count": 6,
   "id": "fcd33c5f",
   "metadata": {},
   "outputs": [
    {
     "name": "stdout",
     "output_type": "stream",
     "text": [
      "      PLAYER_NAME    MIN   PACE  USG_PCT  TS_PCT\n",
      "17  Stephen Curry  40:48  99.41    0.299   0.639\n"
     ]
    }
   ],
   "source": [
    "# This endpoint doesn't seem to be working, its something to do with the arguments passed\n",
    "# trk = BoxScorePlayerTrackV2(game_id=game_id).player_track.get_data_frame()\n",
    "# spd_data = trk[trk[\"PLAYER_ID\"] == pid][[\"PLAYER_NAME\", \"SPD\", \"DIST\", \"TCHS\", \"PASS\"]]\n",
    "# print(spd_data)\n",
    "\n",
    "# Player stats for a given game\n",
    "adv = BoxScoreAdvancedV2(game_id=game_id).player_stats.get_data_frame()\n",
    "adv_data = adv[adv[\"PLAYER_ID\"] == pid][[\"PLAYER_NAME\", \"MIN\", \"PACE\", \"USG_PCT\", \"TS_PCT\"]]\n",
    "print(adv_data)"
   ]
  },
  {
   "cell_type": "code",
   "execution_count": 7,
   "id": "f2ae564d",
   "metadata": {},
   "outputs": [
    {
     "name": "stdout",
     "output_type": "stream",
     "text": [
      "     PLAYER_NAME HEIGHT_W_SHOES WEIGHT WINGSPAN\n",
      "0  Stephen Curry            6-2    185     None\n"
     ]
    }
   ],
   "source": [
    "anthro = DraftCombinePlayerAnthro().get_data_frames()[0]\n",
    "anthro_data = anthro[anthro[\"PLAYER_ID\"] == pid][\n",
    "    [\"PLAYER_NAME\", \"HEIGHT_WO_SHOES\", \"HEIGHT_W_SHOES\", \"WEIGHT\", \"WINGSPAN\"]\n",
    "]\n",
    "\n",
    "if anthro_data.empty:\n",
    "    info = CommonPlayerInfo(player_id=pid).common_player_info.get_data_frame().iloc[0]\n",
    "    anthro_data = pd.DataFrame([{\n",
    "        \"PLAYER_NAME\": info[\"DISPLAY_FIRST_LAST\"],\n",
    "        \"HEIGHT_W_SHOES\": info[\"HEIGHT\"],\n",
    "        \"WEIGHT\": info[\"WEIGHT\"],\n",
    "        \"WINGSPAN\": None\n",
    "    }])\n",
    "print(anthro_data)"
   ]
  }
 ],
 "metadata": {
  "kernelspec": {
   "display_name": ".venv",
   "language": "python",
   "name": "python3"
  },
  "language_info": {
   "codemirror_mode": {
    "name": "ipython",
    "version": 3
   },
   "file_extension": ".py",
   "mimetype": "text/x-python",
   "name": "python",
   "nbconvert_exporter": "python",
   "pygments_lexer": "ipython3",
   "version": "3.13.5"
  }
 },
 "nbformat": 4,
 "nbformat_minor": 5
}
