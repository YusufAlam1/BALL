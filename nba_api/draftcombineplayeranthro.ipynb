{
 "cells": [
  {
   "cell_type": "code",
   "execution_count": 19,
   "id": "7656663d",
   "metadata": {},
   "outputs": [],
   "source": [
    "from nba_api.stats.endpoints import DraftCombinePlayerAnthro\n",
    "import pandas as pd\n",
    "import time"
   ]
  },
  {
   "cell_type": "code",
   "execution_count": null,
   "id": "5957ba13",
   "metadata": {},
   "outputs": [],
   "source": [
    "all_data = []\n",
    "\n",
    "for i in range(0, 25):\n",
    "    season = f\"20{i:02d}\"\n",
    "    print(f\"Fetching combine data for {season}...\")\n",
    "    try:\n",
    "        df = DraftCombinePlayerAnthro(league_id='00', season_year=season).get_data_frames()[0]\n",
    "        df[\"SEASON_YEAR\"] = season\n",
    "        all_data.append(df)\n",
    "    except Exception as e:\n",
    "        print(f\"Skipping {season} due to error: {e}\")\n",
    "    time.sleep(1)\n",
    "\n",
    "if all_data:\n",
    "    final_df = pd.concat(all_data, ignore_index=True)\n",
    "    final_df.to_csv(\"nba_combine_anthro.csv\", index=False)\n",
    "    print(f\"Wrote {len(final_df)} rows to nba_combine_anthro.csv\")\n",
    "else:\n",
    "    print(\"failure womp womp\")\n"
   ]
  },
  {
   "cell_type": "code",
   "execution_count": 22,
   "id": "6e9d651b",
   "metadata": {},
   "outputs": [],
   "source": [
    "df = DraftCombinePlayerAnthro(league_id='00', season_year='2025').get_data_frames()[0]\n",
    "df.to_csv('nba_combine_anthro_2025.csv', index=False)"
   ]
  }
 ],
 "metadata": {
  "kernelspec": {
   "display_name": ".venv",
   "language": "python",
   "name": "python3"
  },
  "language_info": {
   "codemirror_mode": {
    "name": "ipython",
    "version": 3
   },
   "file_extension": ".py",
   "mimetype": "text/x-python",
   "name": "python",
   "nbconvert_exporter": "python",
   "pygments_lexer": "ipython3",
   "version": "3.13.5"
  }
 },
 "nbformat": 4,
 "nbformat_minor": 5
}
