{
 "cells": [
  {
   "cell_type": "code",
   "execution_count": 45,
   "id": "7656663d",
   "metadata": {},
   "outputs": [
    {
     "name": "stdout",
     "output_type": "stream",
     "text": [
      "   TEMP_PLAYER_ID  PLAYER_ID FIRST_NAME LAST_NAME     PLAYER_NAME POSITION  \\\n",
      "0         1630546    1630546        Max     Abmas       Max Abmas       PG   \n",
      "1         1630534    1630534      Ochai    Agbaji    Ochai Agbaji       SG   \n",
      "2         1630542    1630542     Marcus    Bagley   Marcus Bagley       SF   \n",
      "3         1630567    1630567    Scottie    Barnes  Scottie Barnes       SF   \n",
      "4         1629646    1629646    Charles    Bassey  Charles Bassey        C   \n",
      "\n",
      "   HEIGHT_WO_SHOES HEIGHT_WO_SHOES_FT_IN  HEIGHT_W_SHOES HEIGHT_W_SHOES_FT_IN  \\\n",
      "0            70.50              5'10.5''           71.75            5'11.75''   \n",
      "1            76.50               6'4.5''           77.50              6'5.5''   \n",
      "2            78.00               6'6.0''           79.75             6'7.75''   \n",
      "3            79.00               6'7.0''           80.00              6'8.0''   \n",
      "4            81.25              6'9.25''           82.25            6'10.25''   \n",
      "\n",
      "   WEIGHT  WINGSPAN WINGSPAN_FT_IN  STANDING_REACH STANDING_REACH_FT_IN  \\\n",
      "0  161.80     73.75       6'1.75''            94.0             7'10.0''   \n",
      "1  214.40     82.00       6'10.0''           103.5              8'7.5''   \n",
      "2  216.80     83.00       6'11.0''           102.5              8'6.5''   \n",
      "3  225.40     86.75       7'2.75''           108.0              9'0.0''   \n",
      "4  230.20     87.00        7'3.0''           107.5             8'11.5''   \n",
      "\n",
      "   BODY_FAT_PCT  HAND_LENGTH  HAND_WIDTH  \n",
      "0          5.50         8.00        7.75  \n",
      "1          4.15         9.00        8.75  \n",
      "2          7.50         8.75        8.50  \n",
      "3          5.30         9.25       10.25  \n",
      "4          5.90         9.00        9.50  \n"
     ]
    }
   ],
   "source": [
    "from nba_api.stats.static import players\n",
    "from nba_api.stats.endpoints import DraftCombinePlayerAnthro\n",
    "import pandas as pd\n",
    "\n",
    "df = DraftCombinePlayerAnthro(league_id='00', season_year='2021').get_data_frames()\n",
    "print(df[0].head())"
   ]
  }
 ],
 "metadata": {
  "kernelspec": {
   "display_name": ".venv",
   "language": "python",
   "name": "python3"
  },
  "language_info": {
   "codemirror_mode": {
    "name": "ipython",
    "version": 3
   },
   "file_extension": ".py",
   "mimetype": "text/x-python",
   "name": "python",
   "nbconvert_exporter": "python",
   "pygments_lexer": "ipython3",
   "version": "3.13.5"
  }
 },
 "nbformat": 4,
 "nbformat_minor": 5
}
