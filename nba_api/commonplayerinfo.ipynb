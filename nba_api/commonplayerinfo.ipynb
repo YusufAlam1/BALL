{
 "cells": [
  {
   "cell_type": "code",
   "execution_count": null,
   "id": "dc6fb6fc",
   "metadata": {},
   "outputs": [],
   "source": [
    "import time\n",
    "import random\n",
    "import pandas as pd\n",
    "from nba_api.stats.static import players\n",
    "from nba_api.stats.endpoints import commonplayerinfo"
   ]
  },
  {
   "cell_type": "code",
   "execution_count": null,
   "id": "d07953bf",
   "metadata": {},
   "outputs": [],
   "source": [
    "HDRS = {\n",
    "  \"User-Agent\":\"Mozilla/5.0 (Windows NT 10.0; Win64; x64) AppleWebKit/537.36 (KHTML, like Gecko) Chrome/122 Safari/537.36\",\n",
    "  \"Referer\":\"https://www.nba.com/\", \"Origin\":\"https://www.nba.com\"\n",
    "}\n",
    "\n",
    "\n",
    "CSV_PATH = \"./data/players_common.csv\""
   ]
  },
  {
   "cell_type": "code",
   "execution_count": null,
   "id": "a7fa6747",
   "metadata": {},
   "outputs": [],
   "source": [
    "# limit = 100\n",
    "# ids = [p[\"id\"] for p in players.get_players()][:limit]\n",
    "ids = [p[\"id\"] for p in players.get_players()]\n",
    "\n",
    "frames = []\n",
    "count = 5024\n",
    "print(f\"Fetching {len(ids)} players...\")\n",
    "\n",
    "for pid in ids:\n",
    "    print(count)\n",
    "    df = commonplayerinfo.CommonPlayerInfo(player_id=pid, timeout=90).common_player_info.get_data_frame()\n",
    "    frames.append(df)\n",
    "\n",
    "    time.sleep(random.uniform(0.6, 1.2))\n",
    "    count -= 1\n",
    "\n",
    "if frames:\n",
    "    all_df = pd.concat(frames, ignore_index=True)\n",
    "    all_df.to_csv(CSV_PATH, index=False)\n",
    "    print(f\"Wrote {len(all_df)} rows × {len(all_df.columns)} cols to {CSV_PATH}\")\n",
    "else:\n",
    "    print(\"failure womp womp\")"
   ]
  }
 ],
 "metadata": {
  "kernelspec": {
   "display_name": ".venv",
   "language": "python",
   "name": "python3"
  },
  "language_info": {
   "codemirror_mode": {
    "name": "ipython",
    "version": 3
   },
   "file_extension": ".py",
   "mimetype": "text/x-python",
   "name": "python",
   "nbconvert_exporter": "python",
   "pygments_lexer": "ipython3",
   "version": "3.13.5"
  }
 },
 "nbformat": 4,
 "nbformat_minor": 5
}
