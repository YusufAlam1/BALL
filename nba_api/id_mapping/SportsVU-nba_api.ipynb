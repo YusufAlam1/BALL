{
 "cells": [
  {
   "cell_type": "markdown",
   "id": "97308231",
   "metadata": {},
   "source": [
    "### Below is the data of one frame of an nba game showing all player and ball positions on the court\n",
    "<br> PbP Data can be found at this link: https://www.basketball-reference.com/boxscores/pbp/201601010TOR.html"
   ]
  },
  {
   "cell_type": "markdown",
   "id": "9892e61f",
   "metadata": {},
   "source": [
    "team_id,<span style=\"color:#00FF00;\">**PLAYER_ID**</span>,x_loc,y_loc,radius,game_clock,shot_clock,quarter,game_id,event_id\n",
    "\n",
    "Ball position<br>\n",
    "-1,<span style=\"color:#F36F21;\">**-1**</span>,23.4254,45.12734,3.64299,711.26,11.99,1,201601010TOR,1\n",
    "\n",
    "Player positions (Raptors)<br>\n",
    "1610612761,<span style=\"color:#CE1141;\">**2449**</span>,19.08811,13.91147,0.0,711.26,11.99,1,201601010TOR,1<br>\n",
    "1610612761,<span style=\"color:#CE1141;\">**201960**</span>,10.11935,13.54703,0.0,711.26,11.99,1,201601010TOR,1<br>\n",
    "1610612761,<span style=\"color:#CE1141;\">**200768**</span>,20.81838,44.51006,0.0,711.26,11.99,1,201601010TOR,1<br>\n",
    "1610612761,<span style=\"color:#CE1141;\">**201942**</span>,14.16535,38.7957,0.0,711.26,11.99,1,201601010TOR,1<br>\n",
    "1610612761,<span style=\"color:#CE1141;\">**202685**</span>,20.89057,34.20938,0.0,711.26,11.99,1,201601010TOR,1<br>\n",
    "\n",
    "Player positions (Hornets)<br>\n",
    "1610612766,<span style=\"color:#00788C;\">**101107**</span>,13.30744,22.19981,0.0,711.26,11.99,1,201601010TOR,1<br>\n",
    "1610612766,<span style=\"color:#00788C;\">**201587**</span>,9.1404,18.58649,0.0,711.26,11.99,1,201601010TOR,1<br>\n",
    "1610612766,<span style=\"color:#00788C;\">**202689**</span>,19.31103,42.47285,0.0,711.26,11.99,1,201601010TOR,1<br>\n",
    "1610612766,<span style=\"color:#00788C;\">**203469**</span>,16.44724,32.53167,0.0,711.26,11.99,1,201601010TOR,1<br>\n",
    "1610612766,<span style=\"color:#00788C;\">**203798**</span>,15.49183,37.7022,0.0,711.26,11.99,1,201601010TOR,1<br>\n"
   ]
  },
  {
   "cell_type": "markdown",
   "id": "9c0af665",
   "metadata": {},
   "source": [
    "#### In the below code we can confirm that this SportsVU data set adheres to the same player ID mapping as the nba_api library. With this we can create a pipeline that maps player names to their positions on the court at any given time in a game."
   ]
  },
  {
   "cell_type": "code",
   "execution_count": null,
   "id": "dbfb13e7",
   "metadata": {},
   "outputs": [
    {
     "name": "stdout",
     "output_type": "stream",
     "text": [
      "       id          full_name first_name    last_name  is_active\n",
      "0    2449         Luis Scola       Luis        Scola      False\n",
      "1  201960    DeMarre Carroll    DeMarre      Carroll      False\n",
      "2  200768         Kyle Lowry       Kyle        Lowry       True\n",
      "3  201942      DeMar DeRozan      DeMar      DeRozan       True\n",
      "4  202685  Jonas Valančiūnas      Jonas  Valančiūnas       True\n",
      "\n",
      "       id        full_name first_name last_name  is_active\n",
      "0  101107  Marvin Williams     Marvin  Williams      False\n",
      "1  201587    Nicolas Batum    Nicolas     Batum       True\n",
      "2  202689     Kemba Walker      Kemba    Walker      False\n",
      "3  203469      Cody Zeller       Cody    Zeller      False\n",
      "4  203798      PJ Hairston         PJ  Hairston      False\n"
     ]
    }
   ],
   "source": [
    "from nba_api.stats.static import players\n",
    "from typing import List\n",
    "import pandas as pd\n",
    "\n",
    "raptors = [2449, 201960, 200768, 201942, 202685]\n",
    "hornets = [101107, 201587, 202689, 203469, 203798]\n",
    "\n",
    "def names_to_df(player_ids: List[str]) -> pd.DataFrame:\n",
    "    player_info = []\n",
    "\n",
    "    for pid in player_ids:\n",
    "        player_info.append(players.find_player_by_id(pid))\n",
    "    \n",
    "    return(pd.DataFrame(player_info))\n",
    "\n",
    "print(names_to_df(raptors))\n",
    "print()\n",
    "print(names_to_df(hornets))"
   ]
  }
 ],
 "metadata": {
  "kernelspec": {
   "display_name": ".venv",
   "language": "python",
   "name": "python3"
  },
  "language_info": {
   "codemirror_mode": {
    "name": "ipython",
    "version": 3
   },
   "file_extension": ".py",
   "mimetype": "text/x-python",
   "name": "python",
   "nbconvert_exporter": "python",
   "pygments_lexer": "ipython3",
   "version": "3.13.5"
  }
 },
 "nbformat": 4,
 "nbformat_minor": 5
}
