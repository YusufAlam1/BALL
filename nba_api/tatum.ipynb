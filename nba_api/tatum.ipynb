{
 "cells": [
  {
   "cell_type": "code",
   "execution_count": null,
   "id": "ca5e76df",
   "metadata": {},
   "outputs": [
    {
     "name": "stdout",
     "output_type": "stream",
     "text": [
      "Using Finals Game_ID: 0042300405\n"
     ]
    },
    {
     "ename": "JSONDecodeError",
     "evalue": "Expecting value: line 1 column 1 (char 0)",
     "output_type": "error",
     "traceback": [
      "\u001b[31m---------------------------------------------------------------------------\u001b[39m",
      "\u001b[31mJSONDecodeError\u001b[39m                           Traceback (most recent call last)",
      "\u001b[36mCell\u001b[39m\u001b[36m \u001b[39m\u001b[32mIn[1]\u001b[39m\u001b[32m, line 30\u001b[39m\n\u001b[32m     27\u001b[39m \u001b[38;5;28mprint\u001b[39m(\u001b[33mf\u001b[39m\u001b[33m\"\u001b[39m\u001b[33mUsing Finals Game_ID: \u001b[39m\u001b[38;5;132;01m{\u001b[39;00mgame_id\u001b[38;5;132;01m}\u001b[39;00m\u001b[33m\"\u001b[39m)\n\u001b[32m     29\u001b[39m \u001b[38;5;66;03m# 4️⃣ Pull speed data from BoxScorePlayerTrackV2\u001b[39;00m\n\u001b[32m---> \u001b[39m\u001b[32m30\u001b[39m trk = \u001b[43mBoxScorePlayerTrackV2\u001b[49m\u001b[43m(\u001b[49m\u001b[43mgame_id\u001b[49m\u001b[43m=\u001b[49m\u001b[43mgame_id\u001b[49m\u001b[43m)\u001b[49m.player_track.get_data_frame()\n\u001b[32m     31\u001b[39m spd_data = trk[trk[\u001b[33m\"\u001b[39m\u001b[33mPLAYER_ID\u001b[39m\u001b[33m\"\u001b[39m] == pid][[\u001b[33m\"\u001b[39m\u001b[33mPLAYER_NAME\u001b[39m\u001b[33m\"\u001b[39m, \u001b[33m\"\u001b[39m\u001b[33mSPD\u001b[39m\u001b[33m\"\u001b[39m, \u001b[33m\"\u001b[39m\u001b[33mDIST\u001b[39m\u001b[33m\"\u001b[39m, \u001b[33m\"\u001b[39m\u001b[33mTCHS\u001b[39m\u001b[33m\"\u001b[39m, \u001b[33m\"\u001b[39m\u001b[33mPASS\u001b[39m\u001b[33m\"\u001b[39m]]\n\u001b[32m     33\u001b[39m \u001b[38;5;66;03m# 5️⃣ Pull PACE and advanced stats from BoxScoreAdvancedV2\u001b[39;00m\n",
      "\u001b[36mFile \u001b[39m\u001b[32mc:\\Users\\yusuf\\OneDrive\\Desktop\\CODE\\BALL\\.venv\\Lib\\site-packages\\nba_api\\stats\\endpoints\\boxscoreplayertrackv2.py:81\u001b[39m, in \u001b[36mBoxScorePlayerTrackV2.__init__\u001b[39m\u001b[34m(self, game_id, proxy, headers, timeout, get_request)\u001b[39m\n\u001b[32m     79\u001b[39m \u001b[38;5;28mself\u001b[39m.parameters = {\u001b[33m\"\u001b[39m\u001b[33mGameID\u001b[39m\u001b[33m\"\u001b[39m: game_id}\n\u001b[32m     80\u001b[39m \u001b[38;5;28;01mif\u001b[39;00m get_request:\n\u001b[32m---> \u001b[39m\u001b[32m81\u001b[39m     \u001b[38;5;28;43mself\u001b[39;49m\u001b[43m.\u001b[49m\u001b[43mget_request\u001b[49m\u001b[43m(\u001b[49m\u001b[43m)\u001b[49m\n",
      "\u001b[36mFile \u001b[39m\u001b[32mc:\\Users\\yusuf\\OneDrive\\Desktop\\CODE\\BALL\\.venv\\Lib\\site-packages\\nba_api\\stats\\endpoints\\boxscoreplayertrackv2.py:91\u001b[39m, in \u001b[36mBoxScorePlayerTrackV2.get_request\u001b[39m\u001b[34m(self)\u001b[39m\n\u001b[32m     83\u001b[39m \u001b[38;5;28;01mdef\u001b[39;00m\u001b[38;5;250m \u001b[39m\u001b[34mget_request\u001b[39m(\u001b[38;5;28mself\u001b[39m):\n\u001b[32m     84\u001b[39m     \u001b[38;5;28mself\u001b[39m.nba_response = NBAStatsHTTP().send_api_request(\n\u001b[32m     85\u001b[39m         endpoint=\u001b[38;5;28mself\u001b[39m.endpoint,\n\u001b[32m     86\u001b[39m         parameters=\u001b[38;5;28mself\u001b[39m.parameters,\n\u001b[32m   (...)\u001b[39m\u001b[32m     89\u001b[39m         timeout=\u001b[38;5;28mself\u001b[39m.timeout,\n\u001b[32m     90\u001b[39m     )\n\u001b[32m---> \u001b[39m\u001b[32m91\u001b[39m     \u001b[38;5;28;43mself\u001b[39;49m\u001b[43m.\u001b[49m\u001b[43mload_response\u001b[49m\u001b[43m(\u001b[49m\u001b[43m)\u001b[49m\n",
      "\u001b[36mFile \u001b[39m\u001b[32mc:\\Users\\yusuf\\OneDrive\\Desktop\\CODE\\BALL\\.venv\\Lib\\site-packages\\nba_api\\stats\\endpoints\\boxscoreplayertrackv2.py:94\u001b[39m, in \u001b[36mBoxScorePlayerTrackV2.load_response\u001b[39m\u001b[34m(self)\u001b[39m\n\u001b[32m     93\u001b[39m \u001b[38;5;28;01mdef\u001b[39;00m\u001b[38;5;250m \u001b[39m\u001b[34mload_response\u001b[39m(\u001b[38;5;28mself\u001b[39m):\n\u001b[32m---> \u001b[39m\u001b[32m94\u001b[39m     data_sets = \u001b[38;5;28;43mself\u001b[39;49m\u001b[43m.\u001b[49m\u001b[43mnba_response\u001b[49m\u001b[43m.\u001b[49m\u001b[43mget_data_sets\u001b[49m\u001b[43m(\u001b[49m\u001b[43m)\u001b[49m\n\u001b[32m     95\u001b[39m     \u001b[38;5;28mself\u001b[39m.data_sets = [\n\u001b[32m     96\u001b[39m         Endpoint.DataSet(data=data_set)\n\u001b[32m     97\u001b[39m         \u001b[38;5;28;01mfor\u001b[39;00m data_set_name, data_set \u001b[38;5;129;01min\u001b[39;00m data_sets.items()\n\u001b[32m     98\u001b[39m     ]\n\u001b[32m     99\u001b[39m     \u001b[38;5;28mself\u001b[39m.player_stats = Endpoint.DataSet(data=data_sets[\u001b[33m\"\u001b[39m\u001b[33mPlayerStats\u001b[39m\u001b[33m\"\u001b[39m])\n",
      "\u001b[36mFile \u001b[39m\u001b[32mc:\\Users\\yusuf\\OneDrive\\Desktop\\CODE\\BALL\\.venv\\Lib\\site-packages\\nba_api\\stats\\library\\http.py:126\u001b[39m, in \u001b[36mNBAStatsResponse.get_data_sets\u001b[39m\u001b[34m(self, endpoint)\u001b[39m\n\u001b[32m    125\u001b[39m \u001b[38;5;28;01mdef\u001b[39;00m\u001b[38;5;250m \u001b[39m\u001b[34mget_data_sets\u001b[39m(\u001b[38;5;28mself\u001b[39m, endpoint=\u001b[38;5;28;01mNone\u001b[39;00m):\n\u001b[32m--> \u001b[39m\u001b[32m126\u001b[39m     raw_dict = \u001b[38;5;28;43mself\u001b[39;49m\u001b[43m.\u001b[49m\u001b[43mget_dict\u001b[49m\u001b[43m(\u001b[49m\u001b[43m)\u001b[49m\n\u001b[32m    128\u001b[39m     \u001b[38;5;28;01mif\u001b[39;00m endpoint \u001b[38;5;129;01mis\u001b[39;00m \u001b[38;5;28;01mNone\u001b[39;00m:\n\u001b[32m    129\u001b[39m         \u001b[38;5;66;03m# Process Tabular Json\u001b[39;00m\n\u001b[32m    130\u001b[39m         \u001b[38;5;28;01mif\u001b[39;00m \u001b[33m\"\u001b[39m\u001b[33mresultSets\u001b[39m\u001b[33m\"\u001b[39m \u001b[38;5;129;01min\u001b[39;00m raw_dict:\n",
      "\u001b[36mFile \u001b[39m\u001b[32mc:\\Users\\yusuf\\OneDrive\\Desktop\\CODE\\BALL\\.venv\\Lib\\site-packages\\nba_api\\library\\http.py:42\u001b[39m, in \u001b[36mNBAResponse.get_dict\u001b[39m\u001b[34m(self)\u001b[39m\n\u001b[32m     41\u001b[39m \u001b[38;5;28;01mdef\u001b[39;00m\u001b[38;5;250m \u001b[39m\u001b[34mget_dict\u001b[39m(\u001b[38;5;28mself\u001b[39m):\n\u001b[32m---> \u001b[39m\u001b[32m42\u001b[39m     \u001b[38;5;28;01mreturn\u001b[39;00m \u001b[43mjson\u001b[49m\u001b[43m.\u001b[49m\u001b[43mloads\u001b[49m\u001b[43m(\u001b[49m\u001b[38;5;28;43mself\u001b[39;49m\u001b[43m.\u001b[49m\u001b[43m_response\u001b[49m\u001b[43m)\u001b[49m\n",
      "\u001b[36mFile \u001b[39m\u001b[32m~\\anaconda3\\Lib\\json\\__init__.py:346\u001b[39m, in \u001b[36mloads\u001b[39m\u001b[34m(s, cls, object_hook, parse_float, parse_int, parse_constant, object_pairs_hook, **kw)\u001b[39m\n\u001b[32m    341\u001b[39m     s = s.decode(detect_encoding(s), \u001b[33m'\u001b[39m\u001b[33msurrogatepass\u001b[39m\u001b[33m'\u001b[39m)\n\u001b[32m    343\u001b[39m \u001b[38;5;28;01mif\u001b[39;00m (\u001b[38;5;28mcls\u001b[39m \u001b[38;5;129;01mis\u001b[39;00m \u001b[38;5;28;01mNone\u001b[39;00m \u001b[38;5;129;01mand\u001b[39;00m object_hook \u001b[38;5;129;01mis\u001b[39;00m \u001b[38;5;28;01mNone\u001b[39;00m \u001b[38;5;129;01mand\u001b[39;00m\n\u001b[32m    344\u001b[39m         parse_int \u001b[38;5;129;01mis\u001b[39;00m \u001b[38;5;28;01mNone\u001b[39;00m \u001b[38;5;129;01mand\u001b[39;00m parse_float \u001b[38;5;129;01mis\u001b[39;00m \u001b[38;5;28;01mNone\u001b[39;00m \u001b[38;5;129;01mand\u001b[39;00m\n\u001b[32m    345\u001b[39m         parse_constant \u001b[38;5;129;01mis\u001b[39;00m \u001b[38;5;28;01mNone\u001b[39;00m \u001b[38;5;129;01mand\u001b[39;00m object_pairs_hook \u001b[38;5;129;01mis\u001b[39;00m \u001b[38;5;28;01mNone\u001b[39;00m \u001b[38;5;129;01mand\u001b[39;00m \u001b[38;5;129;01mnot\u001b[39;00m kw):\n\u001b[32m--> \u001b[39m\u001b[32m346\u001b[39m     \u001b[38;5;28;01mreturn\u001b[39;00m \u001b[43m_default_decoder\u001b[49m\u001b[43m.\u001b[49m\u001b[43mdecode\u001b[49m\u001b[43m(\u001b[49m\u001b[43ms\u001b[49m\u001b[43m)\u001b[49m\n\u001b[32m    347\u001b[39m \u001b[38;5;28;01mif\u001b[39;00m \u001b[38;5;28mcls\u001b[39m \u001b[38;5;129;01mis\u001b[39;00m \u001b[38;5;28;01mNone\u001b[39;00m:\n\u001b[32m    348\u001b[39m     \u001b[38;5;28mcls\u001b[39m = JSONDecoder\n",
      "\u001b[36mFile \u001b[39m\u001b[32m~\\anaconda3\\Lib\\json\\decoder.py:345\u001b[39m, in \u001b[36mJSONDecoder.decode\u001b[39m\u001b[34m(self, s, _w)\u001b[39m\n\u001b[32m    340\u001b[39m \u001b[38;5;28;01mdef\u001b[39;00m\u001b[38;5;250m \u001b[39m\u001b[34mdecode\u001b[39m(\u001b[38;5;28mself\u001b[39m, s, _w=WHITESPACE.match):\n\u001b[32m    341\u001b[39m \u001b[38;5;250m    \u001b[39m\u001b[33;03m\"\"\"Return the Python representation of ``s`` (a ``str`` instance\u001b[39;00m\n\u001b[32m    342\u001b[39m \u001b[33;03m    containing a JSON document).\u001b[39;00m\n\u001b[32m    343\u001b[39m \n\u001b[32m    344\u001b[39m \u001b[33;03m    \"\"\"\u001b[39;00m\n\u001b[32m--> \u001b[39m\u001b[32m345\u001b[39m     obj, end = \u001b[38;5;28;43mself\u001b[39;49m\u001b[43m.\u001b[49m\u001b[43mraw_decode\u001b[49m\u001b[43m(\u001b[49m\u001b[43ms\u001b[49m\u001b[43m,\u001b[49m\u001b[43m \u001b[49m\u001b[43midx\u001b[49m\u001b[43m=\u001b[49m\u001b[43m_w\u001b[49m\u001b[43m(\u001b[49m\u001b[43ms\u001b[49m\u001b[43m,\u001b[49m\u001b[43m \u001b[49m\u001b[32;43m0\u001b[39;49m\u001b[43m)\u001b[49m\u001b[43m.\u001b[49m\u001b[43mend\u001b[49m\u001b[43m(\u001b[49m\u001b[43m)\u001b[49m\u001b[43m)\u001b[49m\n\u001b[32m    346\u001b[39m     end = _w(s, end).end()\n\u001b[32m    347\u001b[39m     \u001b[38;5;28;01mif\u001b[39;00m end != \u001b[38;5;28mlen\u001b[39m(s):\n",
      "\u001b[36mFile \u001b[39m\u001b[32m~\\anaconda3\\Lib\\json\\decoder.py:363\u001b[39m, in \u001b[36mJSONDecoder.raw_decode\u001b[39m\u001b[34m(self, s, idx)\u001b[39m\n\u001b[32m    361\u001b[39m     obj, end = \u001b[38;5;28mself\u001b[39m.scan_once(s, idx)\n\u001b[32m    362\u001b[39m \u001b[38;5;28;01mexcept\u001b[39;00m \u001b[38;5;167;01mStopIteration\u001b[39;00m \u001b[38;5;28;01mas\u001b[39;00m err:\n\u001b[32m--> \u001b[39m\u001b[32m363\u001b[39m     \u001b[38;5;28;01mraise\u001b[39;00m JSONDecodeError(\u001b[33m\"\u001b[39m\u001b[33mExpecting value\u001b[39m\u001b[33m\"\u001b[39m, s, err.value) \u001b[38;5;28;01mfrom\u001b[39;00m\u001b[38;5;250m \u001b[39m\u001b[38;5;28;01mNone\u001b[39;00m\n\u001b[32m    364\u001b[39m \u001b[38;5;28;01mreturn\u001b[39;00m obj, end\n",
      "\u001b[31mJSONDecodeError\u001b[39m: Expecting value: line 1 column 1 (char 0)"
     ]
    }
   ],
   "source": [
    "from nba_api.stats.static import players\n",
    "from nba_api.stats.endpoints import (\n",
    "    PlayerGameLog,\n",
    "    BoxScorePlayerTrackV2,\n",
    "    BoxScoreAdvancedV2,\n",
    "    DraftCombinePlayerAnthro,\n",
    "    CommonPlayerInfo\n",
    ")\n",
    "import pandas as pd\n",
    "\n",
    "\n",
    "pid = players.find_players_by_full_name(\"Jayson Tatum\")[0][\"id\"]\n",
    "\n",
    "\n",
    "logs = PlayerGameLog(\n",
    "    player_id=pid,\n",
    "    season=\"2023-24\",\n",
    "    season_type_all_star=\"Playoffs\"\n",
    ").get_data_frames()[0]\n",
    "\n",
    "\n",
    "finals_logs = logs[logs[\"MATCHUP\"].str.contains(\"DAL\")]\n",
    "assert not finals_logs.empty, \"No Finals logs found — check filters.\"\n",
    "\n",
    "\n",
    "game_id = finals_logs.iloc[0][\"Game_ID\"]\n",
    "print(f\"Using Finals Game_ID: {game_id}\")\n",
    "\n",
    "\n",
    "trk = BoxScorePlayerTrackV2(game_id=game_id).player_track.get_data_frame()\n",
    "spd_data = trk[trk[\"PLAYER_ID\"] == pid][[\"PLAYER_NAME\", \"SPD\", \"DIST\", \"TCHS\", \"PASS\"]]\n",
    "\n",
    "\n",
    "adv = BoxScoreAdvancedV2(game_id=game_id).player_stats.get_data_frame()\n",
    "adv_data = adv[adv[\"PLAYER_ID\"] == pid][[\"PLAYER_NAME\", \"MIN\", \"PACE\", \"USG_PCT\", \"TS_PCT\"]]\n",
    "\n",
    "\n",
    "anthro = DraftCombinePlayerAnthro().get_data_frames()[0]\n",
    "anthro_data = anthro[anthro[\"PLAYER_ID\"] == pid][\n",
    "    [\"PLAYER_NAME\", \"HEIGHT_WO_SHOES\", \"HEIGHT_W_SHOES\", \"WEIGHT\", \"WINGSPAN\"]\n",
    "]\n",
    "\n",
    "if anthro_data.empty:\n",
    "    info = CommonPlayerInfo(player_id=pid).common_player_info.get_data_frame().iloc[0]\n",
    "    anthro_data = pd.DataFrame([{\n",
    "        \"PLAYER_NAME\": info[\"DISPLAY_FIRST_LAST\"],\n",
    "        \"HEIGHT_W_SHOES\": info[\"HEIGHT\"],\n",
    "        \"WEIGHT\": info[\"WEIGHT\"],\n",
    "        \"WINGSPAN\": None\n",
    "    }])\n",
    "\n",
    "\n",
    "print(\"\\n--- Finals Game Data ---\")\n",
    "print(spd_data.to_string(index=False))\n",
    "print(adv_data.to_string(index=False))\n",
    "print(\"\\n--- Player Anthropometrics ---\")\n",
    "print(anthro_data.to_string(index=False))\n"
   ]
  }
 ],
 "metadata": {
  "kernelspec": {
   "display_name": ".venv",
   "language": "python",
   "name": "python3"
  },
  "language_info": {
   "codemirror_mode": {
    "name": "ipython",
    "version": 3
   },
   "file_extension": ".py",
   "mimetype": "text/x-python",
   "name": "python",
   "nbconvert_exporter": "python",
   "pygments_lexer": "ipython3",
   "version": "3.13.5"
  }
 },
 "nbformat": 4,
 "nbformat_minor": 5
}
