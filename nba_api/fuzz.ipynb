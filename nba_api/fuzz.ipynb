{
 "cells": [
  {
   "cell_type": "markdown",
   "id": "3c54c3f5",
   "metadata": {},
   "source": [
    "Exploring thefuzz library to ensure cross dataset compatibility of player name to ID mapping"
   ]
  },
  {
   "cell_type": "code",
   "execution_count": 2,
   "id": "92ec3a93",
   "metadata": {},
   "outputs": [
    {
     "name": "stdout",
     "output_type": "stream",
     "text": [
      "Diff between LeBron James and Bronny James is 83\n",
      "Partial Diff between LeBron James and Bronny James is 91\n",
      "\n",
      "Diff between P.J. Tucker and PJ Tucker is 90\n",
      "\n",
      "Diff between Anthony Davis and Anthony Bennett is 57\n",
      "Partial Diff between Anthony Davis and Anthony Bennett is 76\n",
      "\n",
      "Diff between Luka Dončić and Luka Doncic is 82\n",
      "\n",
      "Diff between Jaren Jackson Jr. and Jaren Jackson is 87\n",
      "Partial Diff between Jaren Jackson Jr. and Jaren Jackson is 100\n",
      "\n",
      "Diff between Ogugua Anunoby and OG Anunoby is 75\n",
      "Partial Diff between Ogugua Anunoby and OG Anunoby is 89\n",
      "\n"
     ]
    }
   ],
   "source": [
    "from thefuzz import fuzz\n",
    "\n",
    "s1 = \"LeBron James\"\n",
    "s2 = \"Bronny James\"\n",
    "print(f\"Diff between {s1} and {s2} is {fuzz.ratio(s1, s2)}\")\n",
    "print(f\"Partial Diff between {s1} and {s2} is {fuzz.partial_ratio(s1, s2)}\\n\")\n",
    "\n",
    "s1 = \"P.J. Tucker\"\n",
    "s2 = \"PJ Tucker\"\n",
    "print(f\"Diff between {s1} and {s2} is {fuzz.ratio(s1, s2)}\\n\")\n",
    "\n",
    "s1 = \"Anthony Davis\"\n",
    "s2 = \"Anthony Bennett\"\n",
    "print(f\"Diff between {s1} and {s2} is {fuzz.ratio(s1, s2)}\")\n",
    "print(f\"Partial Diff between {s1} and {s2} is {fuzz.partial_ratio(s1, s2)}\\n\")\n",
    "\n",
    "s1 = \"Luka Dončić\"\n",
    "s2 = \"Luka Doncic\"\n",
    "print(f\"Diff between {s1} and {s2} is {fuzz.ratio(s1, s2)}\\n\")\n",
    "\n",
    "s1 = \"Jaren Jackson Jr.\"\n",
    "s2 = \"Jaren Jackson\"\n",
    "print(f\"Diff between {s1} and {s2} is {fuzz.ratio(s1, s2)}\")\n",
    "print(f\"Partial Diff between {s1} and {s2} is {fuzz.partial_ratio(s1, s2)}\\n\")\n",
    "\n",
    "s1 = \"Ogugua Anunoby\"\n",
    "s2 = \"OG Anunoby\"\n",
    "print(f\"Diff between {s1} and {s2} is {fuzz.ratio(s1, s2)}\")\n",
    "print(f\"Partial Diff between {s1} and {s2} is {fuzz.partial_ratio(s1, s2)}\\n\")"
   ]
  },
  {
   "cell_type": "code",
   "execution_count": 3,
   "id": "dfa46415",
   "metadata": {},
   "outputs": [
    {
     "name": "stdout",
     "output_type": "stream",
     "text": [
      "Diff between Anthony Miller / Pig Miller and Anthony Miller is 68\n",
      "Partial Diff between Anthony Miller / Pig Miller and Anthony Miller is 100\n",
      "\n"
     ]
    }
   ],
   "source": [
    "s1 = \"Anthony Miller / Pig Miller\"\n",
    "s2 = \"Anthony Miller\"\n",
    "print(f\"Diff between {s1} and {s2} is {fuzz.ratio(s1, s2)}\")\n",
    "print(f\"Partial Diff between {s1} and {s2} is {fuzz.partial_ratio(s1, s2)}\\n\")"
   ]
  }
 ],
 "metadata": {
  "kernelspec": {
   "display_name": ".venv",
   "language": "python",
   "name": "python3"
  },
  "language_info": {
   "codemirror_mode": {
    "name": "ipython",
    "version": 3
   },
   "file_extension": ".py",
   "mimetype": "text/x-python",
   "name": "python",
   "nbconvert_exporter": "python",
   "pygments_lexer": "ipython3",
   "version": "3.13.5"
  }
 },
 "nbformat": 4,
 "nbformat_minor": 5
}
