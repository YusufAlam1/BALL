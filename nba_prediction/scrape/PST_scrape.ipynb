{
 "cells": [
  {
   "cell_type": "markdown",
   "id": "138ff2e6",
   "metadata": {},
   "source": [
    "\n",
    "Pro Sports Transactions Data: https://www.prosportstransactions.com/basketball/Search/Search.php\n",
    "\n",
    "Scraping Source Code: https://github.com/logan-lauton/nba_webscrape?tab=readme-ov-file \n"
   ]
  },
  {
   "cell_type": "code",
   "execution_count": 1,
   "id": "c87796da",
   "metadata": {},
   "outputs": [],
   "source": [
    "from urllib.request import urlopen\n",
    "from bs4 import BeautifulSoup\n",
    "import pandas as pd\n",
    "import time\n",
    "import requests\n",
    "import warnings"
   ]
  },
  {
   "cell_type": "code",
   "execution_count": 4,
   "id": "7fb90ebe",
   "metadata": {},
   "outputs": [],
   "source": [
    "BASE = (\"https://www.prosportstransactions.com/basketball/Search/SearchResults.php\"\n",
    "        \"?Player=&Team=&BeginDate=&EndDate=&ILChkBx=yes&Submit=Search&start={start}\")\n",
    "\n",
    "HEADERS = {\n",
    "    \"User-Agent\": (\n",
    "        \"Mozilla/5.0 (Windows NT 10.0; Win64; x64) \"\n",
    "        \"AppleWebKit/537.36 (KHTML, like Gecko) \"\n",
    "        \"Chrome/127.0.0.0 Safari/537.36\"\n",
    "    ),\n",
    "    \"Accept-Language\": \"en-US,en;q=0.9\",\n",
    "}\n",
    "\n",
    "def fetch_page(start: int, session: requests.Session) -> pd.DataFrame:\n",
    "    url = BASE.format(start=start)\n",
    "    r = session.get(url, headers=HEADERS, timeout=30)\n",
    "    r.raise_for_status()\n",
    "\n",
    "    soup = BeautifulSoup(r.content, \"lxml\")\n",
    "\n",
    "    # try the specific table first\n",
    "    table = soup.select_one(\"table.datatable.center\")\n",
    "    if table:\n",
    "        return pd.read_html(io.StringIO(str(table)), flavor=\"lxml\")[0]\n",
    "\n",
    "    # fallback: let pandas scan the whole page\n",
    "    dfs = pd.read_html(io.StringIO(r.text), flavor=\"lxml\")\n",
    "    if len(dfs) == 0:\n",
    "        # helpful message for debugging\n",
    "        raise RuntimeError(f\"No tables found at start={start}. \"\n",
    "                           f\"Status={r.status_code}, url={url}\")\n",
    "    return dfs[0]\n",
    "\n",
    "def single(num_pages: int) -> pd.DataFrame:\n",
    "    warnings.filterwarnings(\"ignore\", message=\"The frame.append method is deprecated\")\n",
    "    frames = []\n",
    "    start = 0\n",
    "    with requests.Session() as s:\n",
    "        for _ in range(num_pages):\n",
    "            page_df = fetch_page(start, s)\n",
    "            frames.append(page_df)\n",
    "            start += 25\n",
    "            time.sleep(2.38)  # keep your rate limit\n",
    "\n",
    "    df = pd.concat(frames, ignore_index=True)\n",
    "    df.columns = [\"Date\", \"Team\", \"Acquired\", \"Relinquished\", \"Notes\"]\n",
    "    df = df[df[\"Date\"] != \"Date\"].reset_index(drop=True)\n",
    "    df[\"Acquired\"] = df[\"Acquired\"].str.replace(\"•\", \"\", regex=False)\n",
    "    df[\"Relinquished\"] = df[\"Relinquished\"].str.replace(\"•\", \"\", regex=False)\n",
    "    df[\"Date\"] = pd.to_datetime(df[\"Date\"].str.strip(), format=\"%Y-%m-%d\", errors=\"coerce\")\n",
    "    return df\n"
   ]
  },
  {
   "cell_type": "code",
   "execution_count": 5,
   "id": "83faad84",
   "metadata": {},
   "outputs": [
    {
     "ename": "HTTPError",
     "evalue": "403 Client Error: Forbidden for url: https://www.prosportstransactions.com/basketball/Search/SearchResults.php?Player=&Team=&BeginDate=&EndDate=&ILChkBx=yes&Submit=Search&start=0",
     "output_type": "error",
     "traceback": [
      "\u001b[31m---------------------------------------------------------------------------\u001b[39m",
      "\u001b[31mHTTPError\u001b[39m                                 Traceback (most recent call last)",
      "\u001b[36mCell\u001b[39m\u001b[36m \u001b[39m\u001b[32mIn[5]\u001b[39m\u001b[32m, line 1\u001b[39m\n\u001b[32m----> \u001b[39m\u001b[32m1\u001b[39m df = \u001b[43msingle\u001b[49m\u001b[43m(\u001b[49m\u001b[32;43m1507\u001b[39;49m\u001b[43m)\u001b[49m\n",
      "\u001b[36mCell\u001b[39m\u001b[36m \u001b[39m\u001b[32mIn[4]\u001b[39m\u001b[32m, line 39\u001b[39m, in \u001b[36msingle\u001b[39m\u001b[34m(num_pages)\u001b[39m\n\u001b[32m     37\u001b[39m \u001b[38;5;28;01mwith\u001b[39;00m requests.Session() \u001b[38;5;28;01mas\u001b[39;00m s:\n\u001b[32m     38\u001b[39m     \u001b[38;5;28;01mfor\u001b[39;00m _ \u001b[38;5;129;01min\u001b[39;00m \u001b[38;5;28mrange\u001b[39m(num_pages):\n\u001b[32m---> \u001b[39m\u001b[32m39\u001b[39m         page_df = \u001b[43mfetch_page\u001b[49m\u001b[43m(\u001b[49m\u001b[43mstart\u001b[49m\u001b[43m,\u001b[49m\u001b[43m \u001b[49m\u001b[43ms\u001b[49m\u001b[43m)\u001b[49m\n\u001b[32m     40\u001b[39m         frames.append(page_df)\n\u001b[32m     41\u001b[39m         start += \u001b[32m25\u001b[39m\n",
      "\u001b[36mCell\u001b[39m\u001b[36m \u001b[39m\u001b[32mIn[4]\u001b[39m\u001b[32m, line 16\u001b[39m, in \u001b[36mfetch_page\u001b[39m\u001b[34m(start, session)\u001b[39m\n\u001b[32m     14\u001b[39m url = BASE.format(start=start)\n\u001b[32m     15\u001b[39m r = session.get(url, headers=HEADERS, timeout=\u001b[32m30\u001b[39m)\n\u001b[32m---> \u001b[39m\u001b[32m16\u001b[39m \u001b[43mr\u001b[49m\u001b[43m.\u001b[49m\u001b[43mraise_for_status\u001b[49m\u001b[43m(\u001b[49m\u001b[43m)\u001b[49m\n\u001b[32m     18\u001b[39m soup = BeautifulSoup(r.content, \u001b[33m\"\u001b[39m\u001b[33mlxml\u001b[39m\u001b[33m\"\u001b[39m)\n\u001b[32m     20\u001b[39m \u001b[38;5;66;03m# try the specific table first\u001b[39;00m\n",
      "\u001b[36mFile \u001b[39m\u001b[32mc:\\Users\\yusuf\\OneDrive\\Desktop\\CODE\\BALL\\.venv\\Lib\\site-packages\\requests\\models.py:1026\u001b[39m, in \u001b[36mResponse.raise_for_status\u001b[39m\u001b[34m(self)\u001b[39m\n\u001b[32m   1021\u001b[39m     http_error_msg = (\n\u001b[32m   1022\u001b[39m         \u001b[33mf\u001b[39m\u001b[33m\"\u001b[39m\u001b[38;5;132;01m{\u001b[39;00m\u001b[38;5;28mself\u001b[39m.status_code\u001b[38;5;132;01m}\u001b[39;00m\u001b[33m Server Error: \u001b[39m\u001b[38;5;132;01m{\u001b[39;00mreason\u001b[38;5;132;01m}\u001b[39;00m\u001b[33m for url: \u001b[39m\u001b[38;5;132;01m{\u001b[39;00m\u001b[38;5;28mself\u001b[39m.url\u001b[38;5;132;01m}\u001b[39;00m\u001b[33m\"\u001b[39m\n\u001b[32m   1023\u001b[39m     )\n\u001b[32m   1025\u001b[39m \u001b[38;5;28;01mif\u001b[39;00m http_error_msg:\n\u001b[32m-> \u001b[39m\u001b[32m1026\u001b[39m     \u001b[38;5;28;01mraise\u001b[39;00m HTTPError(http_error_msg, response=\u001b[38;5;28mself\u001b[39m)\n",
      "\u001b[31mHTTPError\u001b[39m: 403 Client Error: Forbidden for url: https://www.prosportstransactions.com/basketball/Search/SearchResults.php?Player=&Team=&BeginDate=&EndDate=&ILChkBx=yes&Submit=Search&start=0"
     ]
    }
   ],
   "source": [
    "df = single(1507)"
   ]
  },
  {
   "cell_type": "code",
   "execution_count": 7,
   "id": "e98b7e4b",
   "metadata": {},
   "outputs": [
    {
     "ename": "NameError",
     "evalue": "name 'df' is not defined",
     "output_type": "error",
     "traceback": [
      "\u001b[31m---------------------------------------------------------------------------\u001b[39m",
      "\u001b[31mNameError\u001b[39m                                 Traceback (most recent call last)",
      "\u001b[36mCell\u001b[39m\u001b[36m \u001b[39m\u001b[32mIn[7]\u001b[39m\u001b[32m, line 1\u001b[39m\n\u001b[32m----> \u001b[39m\u001b[32m1\u001b[39m \u001b[43mdf\u001b[49m.to_csv(\u001b[33m'\u001b[39m\u001b[33mNBA_Player_Injury_Stats_1947_2025.csv\u001b[39m\u001b[33m'\u001b[39m, index = \u001b[38;5;28;01mTrue\u001b[39;00m)\n",
      "\u001b[31mNameError\u001b[39m: name 'df' is not defined"
     ]
    }
   ],
   "source": [
    "df.to_csv('NBA_Player_Injury_Stats_1947_2025.csv', index = True)"
   ]
  }
 ],
 "metadata": {
  "kernelspec": {
   "display_name": ".venv",
   "language": "python",
   "name": "python3"
  },
  "language_info": {
   "codemirror_mode": {
    "name": "ipython",
    "version": 3
   },
   "file_extension": ".py",
   "mimetype": "text/x-python",
   "name": "python",
   "nbconvert_exporter": "python",
   "pygments_lexer": "ipython3",
   "version": "3.13.5"
  }
 },
 "nbformat": 4,
 "nbformat_minor": 5
}
