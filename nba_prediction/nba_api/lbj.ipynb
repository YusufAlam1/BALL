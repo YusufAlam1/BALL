{
 "cells": [
  {
   "cell_type": "code",
   "execution_count": null,
   "id": "967fbaf2",
   "metadata": {},
   "outputs": [],
   "source": [
    "from nba_api.stats.static import players\n",
    "from nba_api.stats.endpoints import draftcombineplayeranthro\n",
    "import pandas as pd"
   ]
  },
  {
   "cell_type": "code",
   "execution_count": 8,
   "id": "d94f45e1",
   "metadata": {},
   "outputs": [
    {
     "name": "stdout",
     "output_type": "stream",
     "text": [
      "   TEMP_PLAYER_ID  PLAYER_ID FIRST_NAME LAST_NAME   PLAYER_NAME POSITION  \\\n",
      "37           None       2544     LeBron     James  LeBron James    SF-SG   \n",
      "\n",
      "    HEIGHT_WO_SHOES HEIGHT_WO_SHOES_FT_IN HEIGHT_W_SHOES HEIGHT_W_SHOES_FT_IN  \\\n",
      "37            79.25             6' 7.25''           None                 None   \n",
      "\n",
      "   WEIGHT  WINGSPAN WINGSPAN_FT_IN  STANDING_REACH STANDING_REACH_FT_IN  \\\n",
      "37    245     84.25      7' 0.25''          106.25           8' 10.25''   \n",
      "\n",
      "    BODY_FAT_PCT HAND_LENGTH HAND_WIDTH  \n",
      "37           6.7        None       None  \n"
     ]
    }
   ],
   "source": [
    "lebron = players.find_players_by_full_name(\"LeBron James\")[0]\n",
    "lebron_id = lebron[\"id\"]\n",
    "df = draftcombineplayeranthro.DraftCombinePlayerAnthro(season_year=\"2003-04\").get_data_frames()[0]\n",
    "print(df[df[\"PLAYER_ID\"] == lebron_id])"
   ]
  },
  {
   "cell_type": "code",
   "execution_count": 10,
   "id": "9aef9b10",
   "metadata": {},
   "outputs": [
    {
     "name": "stdout",
     "output_type": "stream",
     "text": [
      "    TEMP_PLAYER_ID  PLAYER_ID FIRST_NAME   LAST_NAME      PLAYER_NAME  \\\n",
      "75         1629627    1629627       Zion  Williamson  Zion Williamson   \n",
      "\n",
      "   POSITION  HEIGHT_WO_SHOES HEIGHT_WO_SHOES_FT_IN  HEIGHT_W_SHOES  \\\n",
      "75       PF              NaN                  None             NaN   \n",
      "\n",
      "   HEIGHT_W_SHOES_FT_IN WEIGHT  WINGSPAN WINGSPAN_FT_IN  STANDING_REACH  \\\n",
      "75                 None   None       NaN           None             NaN   \n",
      "\n",
      "   STANDING_REACH_FT_IN  BODY_FAT_PCT  HAND_LENGTH  HAND_WIDTH  \n",
      "75                 None           NaN          NaN         NaN  \n"
     ]
    }
   ],
   "source": [
    "zion = players.find_players_by_full_name(\"Zion Williamson\")[0]\n",
    "zion_id = zion[\"id\"]\n",
    "df = draftcombineplayeranthro.DraftCombinePlayerAnthro(season_year=\"2019-20\").get_data_frames()[0]\n",
    "print(df[df[\"PLAYER_ID\"] == zion_id])"
   ]
  }
 ],
 "metadata": {
  "kernelspec": {
   "display_name": ".venv",
   "language": "python",
   "name": "python3"
  },
  "language_info": {
   "codemirror_mode": {
    "name": "ipython",
    "version": 3
   },
   "file_extension": ".py",
   "mimetype": "text/x-python",
   "name": "python",
   "nbconvert_exporter": "python",
   "pygments_lexer": "ipython3",
   "version": "3.13.5"
  }
 },
 "nbformat": 4,
 "nbformat_minor": 5
}
