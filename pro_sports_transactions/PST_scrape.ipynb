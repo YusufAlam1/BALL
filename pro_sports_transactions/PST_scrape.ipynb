{
 "cells": [
  {
   "cell_type": "markdown",
   "id": "138ff2e6",
   "metadata": {},
   "source": [
    "\n",
    "Pro Sports Transactions Data: https://www.prosportstransactions.com/basketball/Search/Search.php\n",
    "\n",
    "Scraping Source Code: https://github.com/logan-lauton/nba_webscrape?tab=readme-ov-file \n"
   ]
  },
  {
   "cell_type": "code",
   "execution_count": null,
   "id": "c87796da",
   "metadata": {},
   "outputs": [],
   "source": [
    "from urllib.request import urlopen\n",
    "from bs4 import BeautifulSoup\n",
    "import pandas as pd\n",
    "import time\n",
    "import requests\n",
    "import warnings\n",
    "import io"
   ]
  },
  {
   "cell_type": "code",
   "execution_count": null,
   "id": "7fb90ebe",
   "metadata": {},
   "outputs": [],
   "source": [
    "BASE = (\"https://www.prosportstransactions.com/basketball/Search/SearchResults.php?Player=&Team=&BeginDate=&EndDate=&ILChkBx=yes&Submit=Search&start={start}\")\n",
    "\n",
    "HEADERS = {\n",
    "    \"User-Agent\": (\n",
    "        \"Mozilla/5.0 (Windows NT 10.0; Win64; x64) AppleWebKit/537.36 (KHTML, like Gecko) Chrome/140.0.0.0 Safari/537.36\"\n",
    "    ),\n",
    "    \"Accept-Language\": \"en-US,en;q=0.9\",\n",
    "}\n",
    "\n",
    "def fetch_page(start: int, session: requests.Session) -> pd.DataFrame:\n",
    "    url = BASE.format(start=start)\n",
    "    r = session.get(url, headers=HEADERS, timeout=30)\n",
    "    r.raise_for_status()\n",
    "\n",
    "    soup = BeautifulSoup(r.content, \"lxml\")\n",
    "\n",
    "    table = soup.select_one(\"table.datatable.center\")\n",
    "    if table:\n",
    "        return pd.read_html(io.StringIO(str(table)), flavor=\"lxml\")[0]\n",
    "\n",
    "    dfs = pd.read_html(io.StringIO(r.text), flavor=\"lxml\")\n",
    "    if len(dfs) == 0:\n",
    "        raise RuntimeError(f\"No tables found at start={start}. \"\n",
    "                           f\"Status={r.status_code}, url={url}\")\n",
    "    return dfs[0]\n",
    "\n",
    "def single(num_pages: int) -> pd.DataFrame:\n",
    "    warnings.filterwarnings(\"ignore\", message=\"The frame.append method is deprecated\")\n",
    "    frames = []\n",
    "    start = 0\n",
    "    with requests.Session() as s:\n",
    "        for _ in range(num_pages):\n",
    "            page_df = fetch_page(start, s)\n",
    "            frames.append(page_df)\n",
    "            start += 25\n",
    "            time.sleep(2.38)  # keep your rate limit\n",
    "\n",
    "    df = pd.concat(frames, ignore_index=True)\n",
    "    df.columns = [\"Date\", \"Team\", \"Acquired\", \"Relinquished\", \"Notes\"]\n",
    "    df = df[df[\"Date\"] != \"Date\"].reset_index(drop=True)\n",
    "    df[\"Acquired\"] = df[\"Acquired\"].str.replace(\"• \", \"\", regex=False)\n",
    "    df[\"Relinquished\"] = df[\"Relinquished\"].str.replace(\"• \", \"\", regex=False)\n",
    "    df[\"Date\"] = pd.to_datetime(df[\"Date\"].str.strip(), format=\"%Y-%m-%d\", errors=\"coerce\")\n",
    "    return df\n"
   ]
  },
  {
   "cell_type": "code",
   "execution_count": null,
   "id": "83faad84",
   "metadata": {},
   "outputs": [],
   "source": [
    "df = single(5)"
   ]
  },
  {
   "cell_type": "code",
   "execution_count": null,
   "id": "e98b7e4b",
   "metadata": {},
   "outputs": [],
   "source": [
    "df.to_csv('NBA_Player_Injury_Stats_1947_2025.csv', index=True)"
   ]
  }
 ],
 "metadata": {
  "kernelspec": {
   "display_name": ".venv",
   "language": "python",
   "name": "python3"
  },
  "language_info": {
   "codemirror_mode": {
    "name": "ipython",
    "version": 3
   },
   "file_extension": ".py",
   "mimetype": "text/x-python",
   "name": "python",
   "nbconvert_exporter": "python",
   "pygments_lexer": "ipython3",
   "version": "3.13.5"
  }
 },
 "nbformat": 4,
 "nbformat_minor": 5
}
