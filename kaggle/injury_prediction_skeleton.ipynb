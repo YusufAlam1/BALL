{
  "cells": [
    {
      "cell_type": "markdown",
      "metadata": {
        "id": "MnAk0qOFJ0xC"
      },
      "source": [
        "## Download the Data"
      ]
    },
    {
      "cell_type": "markdown",
      "metadata": {
        "id": "wk0dkE3RM5OS"
      },
      "source": [
        "### USE KAGGLE API"
      ]
    },
    {
      "cell_type": "code",
      "execution_count": null,
      "metadata": {
        "id": "kxWtPRm1JyyU"
      },
      "outputs": [],
      "source": [
        "from google.colab import userdata\n",
        "import os\n",
        "\n",
        "os.environ[\"KAGGLE_KEY\"] = userdata.get('Kaggle_KEY')\n",
        "os.environ[\"KAGGLE_USERNAME\"] = userdata.get('Kaggle_USER')"
      ]
    },
    {
      "cell_type": "markdown",
      "metadata": {
        "id": "UCfZnua-54SS"
      },
      "source": [
        "- Note: Learn to setup environment variable in colab. https://x.com/GoogleColab/status/1719798406195867814"
      ]
    },
    {
      "cell_type": "markdown",
      "metadata": {
        "id": "x3I-sAT2KF1N"
      },
      "source": [
        "### Download and Unzip"
      ]
    },
    {
      "cell_type": "code",
      "execution_count": null,
      "metadata": {
        "colab": {
          "base_uri": "https://localhost:8080/"
        },
        "id": "VK6dX8PQKEKh",
        "outputId": "72c62111-69e2-4b6e-8870-cef0f341d7f7"
      },
      "outputs": [],
      "source": [
        "! kaggle datasets download -d mrsimple07/injury-prediction-dataset\n",
        "! unzip \"injury-prediction-dataset.zip\""
      ]
    },
    {
      "cell_type": "markdown",
      "metadata": {
        "id": "--lj9vVBNBXM"
      },
      "source": [
        "### Read Data"
      ]
    },
    {
      "cell_type": "code",
      "execution_count": null,
      "metadata": {
        "colab": {
          "base_uri": "https://localhost:8080/",
          "height": 206
        },
        "id": "jzfVlCFhKp5U",
        "outputId": "797cfb44-d90a-4488-ec9c-507a81684ff6"
      },
      "outputs": [],
      "source": [
        "import pandas as pd\n",
        "\n",
        "df = pd.read_csv('injury_data.csv')\n",
        "display(df.head())"
      ]
    },
    {
      "cell_type": "markdown",
      "metadata": {
        "id": "PzmV41zGNpYj"
      },
      "source": [
        "## Data Exploration"
      ]
    },
    {
      "cell_type": "code",
      "execution_count": null,
      "metadata": {
        "colab": {
          "base_uri": "https://localhost:8080/",
          "height": 300
        },
        "id": "G2GDd_pHNVi4",
        "outputId": "9f483bbd-2533-4966-98ff-49ecf67996eb"
      },
      "outputs": [],
      "source": [
        "df.describe()"
      ]
    },
    {
      "cell_type": "markdown",
      "metadata": {
        "id": "bOwDYVFJN2Mz"
      },
      "source": [
        "- Note: Seems like data is very clean, nothing cleaning need to be done further.\n",
        "- Note: this is a binary classification problem with depedent varible as `Likelihood_of_Injury`\n",
        "- Note: there is no class imbalance so no need for over/undersampling"
      ]
    },
    {
      "cell_type": "markdown",
      "metadata": {
        "id": "UY8xsYFGN-Bx"
      },
      "source": [
        "## Data Prep"
      ]
    },
    {
      "cell_type": "code",
      "execution_count": null,
      "metadata": {
        "id": "EzjPrbO8Niis"
      },
      "outputs": [],
      "source": [
        "from sklearn.model_selection import train_test_split\n",
        "from sklearn.preprocessing import StandardScaler\n",
        "\n",
        "# Separate features (X) and target variable (y)\n",
        "X = df.drop('Likelihood_of_Injury', axis=1)\n",
        "y = df['Likelihood_of_Injury']\n",
        "\n",
        "# Normalize\n",
        "scaler = StandardScaler()\n",
        "X = scaler.fit_transform(X)\n",
        "\n",
        "# Split data into training and testing sets (80% train, 20% test)\n",
        "X_train, X_test, y_train, y_test = train_test_split(X, y, test_size=0.2, random_state=42)\n"
      ]
    },
    {
      "cell_type": "markdown",
      "metadata": {
        "id": "ojZcOazXQBdp"
      },
      "source": [
        "- Note: since there are 1000 observation, which is small dataset.\n",
        "- Note: we choose cross-validation over validation set for robustness and relatively low computational cost for small dataset\n",
        "- Note: For large datasets, a validation set is prefered for hyperparamter tuning due to its low compuataional cost but less robust."
      ]
    },
    {
      "cell_type": "markdown",
      "metadata": {
        "id": "z2hDVyfBOC-E"
      },
      "source": [
        "## Feature Engineering & Feature Selection\n",
        "\n",
        "- Only 6 features - no need for selection or PCA for dimension reduction\n",
        "- Think about what features engineered here can help boost the model performance (ex. BMI)"
      ]
    },
    {
      "cell_type": "markdown",
      "metadata": {
        "id": "T8oKXpRRdPZv"
      },
      "source": [
        "## Training & Hyperparamter Tuning\n",
        "With Cross-Validation (CV)\n",
        "\n",
        "Models tested:\n",
        "- Logistic Regression (LR)\n",
        "- Support Vector Machine (SVM)\n",
        "- Generalized Linear Method (GLM)\n",
        "\n",
        "- Random Forest (RF)\n",
        "- Gradient Boosting (GB)\n",
        "\n",
        "- Neural Networks"
      ]
    },
    {
      "cell_type": "code",
      "execution_count": null,
      "metadata": {
        "id": "Oe3bEYK7Q1_Z"
      },
      "outputs": [],
      "source": [
        "from sklearn.model_selection import GridSearchCV, cross_val_score, StratifiedKFold\n",
        "\n",
        "skf = StratifiedKFold(n_splits=5, shuffle=True, random_state=42)"
      ]
    },
    {
      "cell_type": "markdown",
      "metadata": {
        "id": "2P9mRAY3gIqL"
      },
      "source": [
        "### LR"
      ]
    },
    {
      "cell_type": "code",
      "execution_count": null,
      "metadata": {
        "colab": {
          "base_uri": "https://localhost:8080/"
        },
        "id": "uFvbekWegHmx",
        "outputId": "782016cd-4193-432b-f0d5-88c6f46747e4"
      },
      "outputs": [],
      "source": [
        "from sklearn.linear_model import LogisticRegression\n",
        "from sklearn.metrics import accuracy_score, precision_score, recall_score, f1_score, roc_auc_score, classification_report\n",
        "\n",
        "lr = LogisticRegression()\n",
        "lr_param_grid = {\n",
        "    'C': [0.001, 0.01, 0.1, 1, 10, 100, 1000]\n",
        "}\n",
        "lr_best = GridSearchCV(estimator=lr, param_grid=lr_param_grid, cv=skf, scoring='accuracy')\n",
        "lr_best.fit(X_train, y_train)\n",
        "\n",
        "model = lr_best.best_estimator_\n",
        "\n",
        "# Predictions\n",
        "y_pred = model.predict(X_test)\n",
        "y_proba = model.predict_proba(X_test)[:, 1]  # for AUC\n",
        "\n",
        "# Metrics\n",
        "print(\"Accuracy:\", accuracy_score(y_test, y_pred))\n",
        "print(\"Precision:\", precision_score(y_test, y_pred))\n",
        "print(\"Recall:\", recall_score(y_test, y_pred))\n",
        "print(\"F1 Score:\", f1_score(y_test, y_pred))\n",
        "print(\"ROC-AUC:\", roc_auc_score(y_test, y_proba))\n",
        "\n",
        "# Detailed report\n",
        "print(\"\\nClassification Report:\")\n",
        "print(classification_report(y_test, y_pred))\n",
        "\n"
      ]
    },
    {
      "cell_type": "markdown",
      "metadata": {
        "id": "qCkPkwx1oNCJ"
      },
      "source": [
        "- Note: Recall should be priotized assuming the cost of injury is high.\n",
        "- Note: No PCA seems needed."
      ]
    },
    {
      "cell_type": "markdown",
      "metadata": {
        "id": "2vpDuOChqAAm"
      },
      "source": [
        "## SVM"
      ]
    },
    {
      "cell_type": "code",
      "execution_count": null,
      "metadata": {
        "colab": {
          "base_uri": "https://localhost:8080/"
        },
        "id": "gPDL28-_haxt",
        "outputId": "2d62dc28-8f65-4937-d77b-d5eee5150506"
      },
      "outputs": [],
      "source": [
        "from sklearn.svm import SVC\n",
        "\n",
        "# SVM\n",
        "svm = SVC(probability=True, random_state=42)  # probability=True for ROC-AUC\n",
        "svm_param_grid = {\n",
        "    'C': [0.1, 1, 10, 100],\n",
        "    'gamma': ['scale', 'auto'],\n",
        "    'kernel': ['rbf']\n",
        "}\n",
        "svm_best = GridSearchCV(estimator=svm, param_grid=svm_param_grid, cv=skf, scoring='accuracy')\n",
        "svm_best.fit(X_train, y_train)\n",
        "\n",
        "model = svm_best.best_estimator_\n",
        "\n",
        "# Predictions\n",
        "y_pred = model.predict(X_test)\n",
        "y_proba = model.predict_proba(X_test)[:, 1]  # for AUC\n",
        "\n",
        "# Metrics\n",
        "print(\"SVM Results:\")\n",
        "print(\"Best Parameters:\", svm_best.best_params_)\n",
        "print(\"Accuracy:\", accuracy_score(y_test, y_pred))\n",
        "print(\"Precision:\", precision_score(y_test, y_pred))\n",
        "print(\"Recall:\", recall_score(y_test, y_pred))\n",
        "print(\"F1 Score:\", f1_score(y_test, y_pred))\n",
        "print(\"ROC-AUC:\", roc_auc_score(y_test, y_proba))\n",
        "\n",
        "# Detailed report\n",
        "print(\"\\nClassification Report:\")\n",
        "print(classification_report(y_test, y_pred))"
      ]
    },
    {
      "cell_type": "markdown",
      "metadata": {
        "id": "A9EcY1zgqef_"
      },
      "source": [
        "## RF"
      ]
    },
    {
      "cell_type": "code",
      "execution_count": null,
      "metadata": {
        "colab": {
          "base_uri": "https://localhost:8080/"
        },
        "id": "6_dlgzKiqsPv",
        "outputId": "f3f7e3db-b77f-4c79-ddf7-6a8e89ce6978"
      },
      "outputs": [],
      "source": [
        "from sklearn.ensemble import RandomForestClassifier\n",
        "\n",
        "# Random Forest\n",
        "rf = RandomForestClassifier(random_state=42)\n",
        "rf_param_grid = {\n",
        "    'n_estimators': [50, 100, 200],\n",
        "    'max_depth': [None, 10, 20, 30],\n",
        "    'min_samples_split': [2, 5, 10]\n",
        "}\n",
        "rf_best = GridSearchCV(estimator=rf, param_grid=rf_param_grid, cv=skf, scoring='accuracy')\n",
        "rf_best.fit(X_train, y_train)\n",
        "\n",
        "model = rf_best.best_estimator_\n",
        "\n",
        "# Predictions\n",
        "y_pred = model.predict(X_test)\n",
        "y_proba = model.predict_proba(X_test)[:, 1]  # for AUC\n",
        "\n",
        "# Metrics\n",
        "print(\"Random Forest Results:\")\n",
        "print(\"Best Parameters:\", rf_best.best_params_)\n",
        "print(\"Accuracy:\", accuracy_score(y_test, y_pred))\n",
        "print(\"Precision:\", precision_score(y_test, y_pred))\n",
        "print(\"Recall:\", recall_score(y_test, y_pred))\n",
        "print(\"F1 Score:\", f1_score(y_test, y_pred))\n",
        "print(\"ROC-AUC:\", roc_auc_score(y_test, y_proba))\n",
        "\n",
        "# Detailed report\n",
        "print(\"\\nClassification Report:\")\n",
        "print(classification_report(y_test, y_pred))"
      ]
    },
    {
      "cell_type": "markdown",
      "metadata": {
        "id": "awSDYnsp6WYt"
      },
      "source": [
        "## Areas to Think About\n",
        "- More advanced models can achieve high performance (like NuSVM), investigate why. https://www.kaggle.com/code/tkunzler/injury-prediction-eda-eng-pt-br\n",
        "- What other models can you test?\n",
        "- Are Neural networks good option, why and why not?"
      ]
    },
    {
      "cell_type": "code",
      "execution_count": null,
      "metadata": {
        "id": "nNqTE08A7BCL"
      },
      "outputs": [],
      "source": []
    }
  ],
  "metadata": {
    "colab": {
      "provenance": []
    },
    "kernelspec": {
      "display_name": "base",
      "language": "python",
      "name": "python3"
    },
    "language_info": {
      "codemirror_mode": {
        "name": "ipython",
        "version": 3
      },
      "file_extension": ".py",
      "mimetype": "text/x-python",
      "name": "python",
      "nbconvert_exporter": "python",
      "pygments_lexer": "ipython3",
      "version": "3.13.5"
    }
  },
  "nbformat": 4,
  "nbformat_minor": 0
}
